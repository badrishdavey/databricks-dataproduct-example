{
 "cells": [
  {
   "cell_type": "code",
   "execution_count": null,
   "outputs": [],
   "source": [
    "def get_absolute_path(*relative_parts):\n",
    "    import os\n",
    "    if 'dbutils' in globals():\n",
    "        # dbutils is available to the entry point when run in Databricks\n",
    "        base_dir = os.path.dirname(dbutils.notebook.entry_point.getDbutils().notebook().getContext().notebookPath().get()) # type: ignore\n",
    "        path = os.path.normpath(os.path.join(base_dir, *relative_parts))\n",
    "        return path if path.startswith(\"/Workspace\") else \"/Workspace\" + path\n",
    "    else:\n",
    "        return os.path.join(*relative_parts)\n"
   ],
   "metadata": {
    "collapsed": false
   },
   "id": "db1f0f3fd71926b6"
  },
  {
   "cell_type": "markdown",
   "source": [
    "# Ingest sales data\n",
    "\n",
    "Simulate an input port"
   ],
   "metadata": {
    "collapsed": false
   },
   "id": "28b11cd65e52bdea"
  },
  {
   "cell_type": "code",
   "execution_count": 25,
   "outputs": [
    {
     "data": {
      "text/plain": "                                  order_id  \\\n0     0fff1c4b-bd7e-4c18-963d-f2246b873ade   \n1     9aa9ecf9-d3b5-41bc-810a-09a3c8aedb8a   \n2     4f21fec4-bc88-4470-aea3-c2008efc41b8   \n3     c3a756a0-d213-4ef0-a9e2-13020901ada1   \n4     f06e44ef-7ce4-44e2-b2cf-ac15cdfd541f   \n...                                    ...   \n2995  bc09e313-62ee-47ec-84fb-97175c090249   \n2996  fe810bce-eeeb-4269-abba-e1fc57a3511a   \n2997  5fba5001-cd2f-414e-8497-e87a7d27cca4   \n2998  0507000b-86ec-4391-a5ef-db207023bfc9   \n2999  275e8d1d-4fa6-42f9-b41d-e3626557d570   \n\n                               customer_id              sku  \\\n0     deca697a-a826-4153-a087-e54c78cdb0ee  400762254142559   \n1     77f327de-adea-4a10-acee-3ed84a3aff02  401864661022360   \n2     2a256be1-2d16-4a5b-b5eb-01f6a4c6b56f  404440578943492   \n3     cafc281e-04c1-4035-98b7-444d0c183f71  403594298394150   \n4     a6e82cd1-9b0a-48b7-9260-d2da777feebc  404016673836668   \n...                                    ...              ...   \n2995  123dd415-dbd7-4a1b-9603-eca883623b90  405004895686435   \n2996  9fb428d5-86cf-47bd-b9ec-f31387798ca5  404706507927581   \n2997  bceb69c7-2852-4df0-b03f-a3d36f237a5d  400025190542666   \n2998  8c269455-c00e-4974-8bce-70f056153a16  404354896577312   \n2999  8959ed69-a70d-45c6-8168-abbc208a6638  401214751288625   \n\n                order_timestamp       processing_timestamp  \n0    2024-03-15 19:31:48.477718 2024-03-17 19:31:48.501565  \n1    2024-03-05 19:31:48.477766 2024-03-05 19:31:48.501570  \n2    2024-03-27 19:31:48.477777 2024-03-01 19:31:48.501574  \n3    2024-03-08 19:31:48.477785 2024-03-06 19:31:48.501577  \n4    2024-03-02 19:31:48.477793 2024-02-29 19:31:48.501581  \n...                         ...                        ...  \n2995 2024-03-19 19:31:48.501538 2024-03-17 19:31:48.513217  \n2996 2024-02-26 19:31:48.501542 2024-03-21 19:31:48.513221  \n2997 2024-03-20 19:31:48.501545 2024-03-16 19:31:48.513224  \n2998 2024-03-18 19:31:48.501549 2024-03-04 19:31:48.513227  \n2999 2024-03-27 19:31:48.501552 2024-03-25 19:31:48.513231  \n\n[3000 rows x 5 columns]",
      "text/html": "<div>\n<style scoped>\n    .dataframe tbody tr th:only-of-type {\n        vertical-align: middle;\n    }\n\n    .dataframe tbody tr th {\n        vertical-align: top;\n    }\n\n    .dataframe thead th {\n        text-align: right;\n    }\n</style>\n<table border=\"1\" class=\"dataframe\">\n  <thead>\n    <tr style=\"text-align: right;\">\n      <th></th>\n      <th>order_id</th>\n      <th>customer_id</th>\n      <th>sku</th>\n      <th>order_timestamp</th>\n      <th>processing_timestamp</th>\n    </tr>\n  </thead>\n  <tbody>\n    <tr>\n      <th>0</th>\n      <td>0fff1c4b-bd7e-4c18-963d-f2246b873ade</td>\n      <td>deca697a-a826-4153-a087-e54c78cdb0ee</td>\n      <td>400762254142559</td>\n      <td>2024-03-15 19:31:48.477718</td>\n      <td>2024-03-17 19:31:48.501565</td>\n    </tr>\n    <tr>\n      <th>1</th>\n      <td>9aa9ecf9-d3b5-41bc-810a-09a3c8aedb8a</td>\n      <td>77f327de-adea-4a10-acee-3ed84a3aff02</td>\n      <td>401864661022360</td>\n      <td>2024-03-05 19:31:48.477766</td>\n      <td>2024-03-05 19:31:48.501570</td>\n    </tr>\n    <tr>\n      <th>2</th>\n      <td>4f21fec4-bc88-4470-aea3-c2008efc41b8</td>\n      <td>2a256be1-2d16-4a5b-b5eb-01f6a4c6b56f</td>\n      <td>404440578943492</td>\n      <td>2024-03-27 19:31:48.477777</td>\n      <td>2024-03-01 19:31:48.501574</td>\n    </tr>\n    <tr>\n      <th>3</th>\n      <td>c3a756a0-d213-4ef0-a9e2-13020901ada1</td>\n      <td>cafc281e-04c1-4035-98b7-444d0c183f71</td>\n      <td>403594298394150</td>\n      <td>2024-03-08 19:31:48.477785</td>\n      <td>2024-03-06 19:31:48.501577</td>\n    </tr>\n    <tr>\n      <th>4</th>\n      <td>f06e44ef-7ce4-44e2-b2cf-ac15cdfd541f</td>\n      <td>a6e82cd1-9b0a-48b7-9260-d2da777feebc</td>\n      <td>404016673836668</td>\n      <td>2024-03-02 19:31:48.477793</td>\n      <td>2024-02-29 19:31:48.501581</td>\n    </tr>\n    <tr>\n      <th>...</th>\n      <td>...</td>\n      <td>...</td>\n      <td>...</td>\n      <td>...</td>\n      <td>...</td>\n    </tr>\n    <tr>\n      <th>2995</th>\n      <td>bc09e313-62ee-47ec-84fb-97175c090249</td>\n      <td>123dd415-dbd7-4a1b-9603-eca883623b90</td>\n      <td>405004895686435</td>\n      <td>2024-03-19 19:31:48.501538</td>\n      <td>2024-03-17 19:31:48.513217</td>\n    </tr>\n    <tr>\n      <th>2996</th>\n      <td>fe810bce-eeeb-4269-abba-e1fc57a3511a</td>\n      <td>9fb428d5-86cf-47bd-b9ec-f31387798ca5</td>\n      <td>404706507927581</td>\n      <td>2024-02-26 19:31:48.501542</td>\n      <td>2024-03-21 19:31:48.513221</td>\n    </tr>\n    <tr>\n      <th>2997</th>\n      <td>5fba5001-cd2f-414e-8497-e87a7d27cca4</td>\n      <td>bceb69c7-2852-4df0-b03f-a3d36f237a5d</td>\n      <td>400025190542666</td>\n      <td>2024-03-20 19:31:48.501545</td>\n      <td>2024-03-16 19:31:48.513224</td>\n    </tr>\n    <tr>\n      <th>2998</th>\n      <td>0507000b-86ec-4391-a5ef-db207023bfc9</td>\n      <td>8c269455-c00e-4974-8bce-70f056153a16</td>\n      <td>404354896577312</td>\n      <td>2024-03-18 19:31:48.501549</td>\n      <td>2024-03-04 19:31:48.513227</td>\n    </tr>\n    <tr>\n      <th>2999</th>\n      <td>275e8d1d-4fa6-42f9-b41d-e3626557d570</td>\n      <td>8959ed69-a70d-45c6-8168-abbc208a6638</td>\n      <td>401214751288625</td>\n      <td>2024-03-27 19:31:48.501552</td>\n      <td>2024-03-25 19:31:48.513231</td>\n    </tr>\n  </tbody>\n</table>\n<p>3000 rows × 5 columns</p>\n</div>"
     },
     "metadata": {},
     "output_type": "display_data"
    }
   ],
   "source": [
    "import pandas as pd\n",
    "from helpers.spark import get_spark\n",
    "\n",
    "sales = get_absolute_path(\"..\", \"fixtures\", \"sales.csv\")\n",
    "\n",
    "dtype = {\"sku\": str}\n",
    "\n",
    "df = pd.read_csv(sales, dtype=dtype)\n",
    "\n",
    "df['order_timestamp'] = pd.to_datetime(df['order_timestamp'])\n",
    "df['processing_timestamp'] = pd.to_datetime(df['processing_timestamp'])\n",
    "\n",
    "display(df)\n",
    "\n",
    "sdf = get_spark().createDataFrame(df)\n",
    "sdf.write.format(\"delta\").mode(\"overwrite\").saveAsTable(\"acme.stock_last_sales.input_sales\")\n"
   ],
   "metadata": {
    "collapsed": false,
    "ExecuteTime": {
     "end_time": "2024-04-01T16:46:52.460131Z",
     "start_time": "2024-04-01T16:46:46.301384Z"
    }
   },
   "id": "d913abd1b16554c0"
  },
  {
   "cell_type": "markdown",
   "source": [
    "# Ingest stock data\n",
    "\n",
    "Simulate an input port"
   ],
   "metadata": {
    "collapsed": false
   },
   "id": "8bbe89da4c80ebb2"
  },
  {
   "cell_type": "code",
   "execution_count": 26,
   "outputs": [
    {
     "data": {
      "text/plain": "                  sku  quantity          updated_timestamp  \\\n0     402989803787501        26 2024-03-07 19:27:56.802952   \n1     404273656385451       539 2024-03-08 19:27:56.802967   \n2     401502677161258       501 2024-03-04 19:27:56.802970   \n3     402231140467550       369 2024-03-25 19:27:56.802972   \n4     404482135138781       698 2024-03-27 19:27:56.802973   \n...               ...       ...                        ...   \n1995  400610044010350       240 2024-02-29 19:27:56.809032   \n1996  403427472018516       358 2024-03-09 19:27:56.809035   \n1997  403579224511153       801 2024-02-29 19:27:56.809037   \n1998  400705739062843       530 2024-03-18 19:27:56.809039   \n1999  402580430166071       682 2024-03-27 19:27:56.809040   \n\n           processing_timestamp  \n0    2024-02-29 19:27:56.809050  \n1    2024-03-09 19:27:56.809054  \n2    2024-03-02 19:27:56.809058  \n3    2024-03-25 19:27:56.809061  \n4    2024-03-08 19:27:56.809064  \n...                         ...  \n1995 2024-02-26 19:27:56.816996  \n1996 2024-03-04 19:27:56.816998  \n1997 2024-03-17 19:27:56.817000  \n1998 2024-03-05 19:27:56.817002  \n1999 2024-03-20 19:27:56.817003  \n\n[2000 rows x 4 columns]",
      "text/html": "<div>\n<style scoped>\n    .dataframe tbody tr th:only-of-type {\n        vertical-align: middle;\n    }\n\n    .dataframe tbody tr th {\n        vertical-align: top;\n    }\n\n    .dataframe thead th {\n        text-align: right;\n    }\n</style>\n<table border=\"1\" class=\"dataframe\">\n  <thead>\n    <tr style=\"text-align: right;\">\n      <th></th>\n      <th>sku</th>\n      <th>quantity</th>\n      <th>updated_timestamp</th>\n      <th>processing_timestamp</th>\n    </tr>\n  </thead>\n  <tbody>\n    <tr>\n      <th>0</th>\n      <td>402989803787501</td>\n      <td>26</td>\n      <td>2024-03-07 19:27:56.802952</td>\n      <td>2024-02-29 19:27:56.809050</td>\n    </tr>\n    <tr>\n      <th>1</th>\n      <td>404273656385451</td>\n      <td>539</td>\n      <td>2024-03-08 19:27:56.802967</td>\n      <td>2024-03-09 19:27:56.809054</td>\n    </tr>\n    <tr>\n      <th>2</th>\n      <td>401502677161258</td>\n      <td>501</td>\n      <td>2024-03-04 19:27:56.802970</td>\n      <td>2024-03-02 19:27:56.809058</td>\n    </tr>\n    <tr>\n      <th>3</th>\n      <td>402231140467550</td>\n      <td>369</td>\n      <td>2024-03-25 19:27:56.802972</td>\n      <td>2024-03-25 19:27:56.809061</td>\n    </tr>\n    <tr>\n      <th>4</th>\n      <td>404482135138781</td>\n      <td>698</td>\n      <td>2024-03-27 19:27:56.802973</td>\n      <td>2024-03-08 19:27:56.809064</td>\n    </tr>\n    <tr>\n      <th>...</th>\n      <td>...</td>\n      <td>...</td>\n      <td>...</td>\n      <td>...</td>\n    </tr>\n    <tr>\n      <th>1995</th>\n      <td>400610044010350</td>\n      <td>240</td>\n      <td>2024-02-29 19:27:56.809032</td>\n      <td>2024-02-26 19:27:56.816996</td>\n    </tr>\n    <tr>\n      <th>1996</th>\n      <td>403427472018516</td>\n      <td>358</td>\n      <td>2024-03-09 19:27:56.809035</td>\n      <td>2024-03-04 19:27:56.816998</td>\n    </tr>\n    <tr>\n      <th>1997</th>\n      <td>403579224511153</td>\n      <td>801</td>\n      <td>2024-02-29 19:27:56.809037</td>\n      <td>2024-03-17 19:27:56.817000</td>\n    </tr>\n    <tr>\n      <th>1998</th>\n      <td>400705739062843</td>\n      <td>530</td>\n      <td>2024-03-18 19:27:56.809039</td>\n      <td>2024-03-05 19:27:56.817002</td>\n    </tr>\n    <tr>\n      <th>1999</th>\n      <td>402580430166071</td>\n      <td>682</td>\n      <td>2024-03-27 19:27:56.809040</td>\n      <td>2024-03-20 19:27:56.817003</td>\n    </tr>\n  </tbody>\n</table>\n<p>2000 rows × 4 columns</p>\n</div>"
     },
     "metadata": {},
     "output_type": "display_data"
    }
   ],
   "source": [
    "import pandas as pd\n",
    "import os\n",
    "\n",
    "\n",
    "sales = get_absolute_path(\"..\", \"fixtures\", \"stock.csv\")\n",
    "\n",
    "dtype = {\"sku\": str}\n",
    "df = pd.read_csv(sales, dtype=dtype)\n",
    "\n",
    "df['updated_timestamp'] = pd.to_datetime(df['updated_timestamp'])\n",
    "df['processing_timestamp'] = pd.to_datetime(df['processing_timestamp'])\n",
    "\n",
    "display(df)\n",
    "\n",
    "sdf = spark.createDataFrame(df)\n",
    "sdf.write.format(\"delta\").mode(\"overwrite\").saveAsTable(\"acme.stock_last_sales.input_stock\")"
   ],
   "metadata": {
    "collapsed": false,
    "ExecuteTime": {
     "end_time": "2024-04-01T16:46:56.910597Z",
     "start_time": "2024-04-01T16:46:52.461713Z"
    }
   },
   "id": "3c379798b5db806e"
  }
 ],
 "metadata": {
  "kernelspec": {
   "display_name": "Python 3",
   "language": "python",
   "name": "python3"
  },
  "language_info": {
   "codemirror_mode": {
    "name": "ipython",
    "version": 2
   },
   "file_extension": ".py",
   "mimetype": "text/x-python",
   "name": "python",
   "nbconvert_exporter": "python",
   "pygments_lexer": "ipython2",
   "version": "2.7.6"
  }
 },
 "nbformat": 4,
 "nbformat_minor": 5
}
