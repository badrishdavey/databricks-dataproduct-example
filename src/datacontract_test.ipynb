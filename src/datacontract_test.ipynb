{
 "cells": [
  {
   "cell_type": "code",
   "execution_count": 1,
   "outputs": [],
   "source": [
    "def get_absolute_path(*relative_parts):\n",
    "    import os\n",
    "    if 'dbutils' in globals():\n",
    "        # dbutils is available to the entry point when run in Databricks\n",
    "        base_dir = os.path.dirname(dbutils.notebook.entry_point.getDbutils().notebook().getContext().notebookPath().get()) # type: ignore\n",
    "        path = os.path.normpath(os.path.join(base_dir, *relative_parts))\n",
    "        return path if path.startswith(\"/Workspace\") else \"/Workspace\" + path\n",
    "    else:\n",
    "        return os.path.join(*relative_parts)\n"
   ],
   "metadata": {
    "collapsed": false,
    "ExecuteTime": {
     "end_time": "2024-04-03T19:33:15.558545Z",
     "start_time": "2024-04-03T19:33:15.556123Z"
    }
   },
   "id": "8ab24e649842f2d4"
  },
  {
   "cell_type": "code",
   "execution_count": 2,
   "outputs": [
    {
     "name": "stderr",
     "output_type": "stream",
     "text": [
      "ERROR:root:Failed publishing test results. Error: Cannot publish run results, as DATAMESH_MANAGER_API_KEY is not set\n"
     ]
    },
    {
     "name": "stdout",
     "output_type": "stream",
     "text": [
      "Data Contract test result: passed\n"
     ]
    }
   ],
   "source": [
    "import sys\n",
    "from datacontract.data_contract import DataContract\n",
    "from helpers.spark import get_spark\n",
    "\n",
    "data_contract_file = get_absolute_path(\"..\", \"datacontract.yaml\")\n",
    "data_contract = DataContract(\n",
    "    data_contract_file=data_contract_file, \n",
    "    publish_url=\"https://api.datamesh-manager.com/api\", \n",
    "    spark=get_spark(),\n",
    ")\n",
    "\n",
    "run = data_contract.test()\n",
    "\n",
    "print(\"Data Contract test result:\", run.result)\n",
    "print(\"Run details:\",  run)\n",
    "\n",
    "if not run.has_passed():\n",
    "    sys.exit(1)\n"
   ],
   "metadata": {
    "collapsed": false,
    "ExecuteTime": {
     "end_time": "2024-04-03T19:40:31.318569Z",
     "start_time": "2024-04-03T19:33:15.559891Z"
    }
   },
   "id": "f6a2cf7bf2b94650"
  }
 ],
 "metadata": {
  "kernelspec": {
   "display_name": "Python 3",
   "language": "python",
   "name": "python3"
  },
  "language_info": {
   "codemirror_mode": {
    "name": "ipython",
    "version": 2
   },
   "file_extension": ".py",
   "mimetype": "text/x-python",
   "name": "python",
   "nbconvert_exporter": "python",
   "pygments_lexer": "ipython2",
   "version": "2.7.6"
  }
 },
 "nbformat": 4,
 "nbformat_minor": 5
}
