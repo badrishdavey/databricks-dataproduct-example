{
 "cells": [
  {
   "cell_type": "code",
   "execution_count": 1,
   "outputs": [],
   "source": [
    "def get_absolute_path(*relative_parts):\n",
    "    import os\n",
    "    if 'dbutils' in globals():\n",
    "        # dbutils is available to the entry point when run in Databricks\n",
    "        base_dir = os.path.dirname(dbutils.notebook.entry_point.getDbutils().notebook().getContext().notebookPath().get()) # type: ignore\n",
    "        path = os.path.normpath(os.path.join(base_dir, *relative_parts))\n",
    "        return path if path.startswith(\"/Workspace\") else \"/Workspace\" + path\n",
    "    else:\n",
    "        return os.path.join(*relative_parts)\n"
   ],
   "metadata": {
    "collapsed": false,
    "ExecuteTime": {
     "end_time": "2024-04-04T13:31:36.104821Z",
     "start_time": "2024-04-04T13:31:36.099142Z"
    }
   },
   "id": "8ab24e649842f2d4"
  },
  {
   "cell_type": "code",
   "execution_count": 2,
   "outputs": [
    {
     "name": "stdout",
     "output_type": "stream",
     "text": [
      "Data Contract test result: passed\n",
      "Run details: runId=UUID('7d35fb45-30b6-4b2d-82a5-641cdf015086') dataContractId='urn:datacontract:fulfillment:stock-last-sales' dataContractVersion='1.0.0' dataProductId=None outputPortId=None server='development' timestampStart=datetime.datetime(2024, 4, 4, 13, 31, 37, 876761, tzinfo=datetime.timezone.utc) timestampEnd=datetime.datetime(2024, 4, 4, 13, 38, 40, 490249, tzinfo=datetime.timezone.utc) result='passed' checks=[Check(type='schema', name='Check that field sku is present', result='passed', engine='soda-core', reason='', model='articles', field=None, details=None), Check(type='schema', name='Check that field sku has type STRING', result='passed', engine='soda-core', reason='', model='articles', field=None, details=None), Check(type='schema', name='Check that field quantity is present', result='passed', engine='soda-core', reason='', model='articles', field=None, details=None), Check(type='schema', name='Check that field quantity has type BIGINT', result='passed', engine='soda-core', reason='', model='articles', field=None, details=None), Check(type='schema', name='Check that field last_sale_timestamp is present', result='passed', engine='soda-core', reason='', model='articles', field=None, details=None), Check(type='schema', name='Check that field last_sale_timestamp has type TIMESTAMP', result='passed', engine='soda-core', reason='', model='articles', field=None, details=None), Check(type='schema', name='Check that field processing_timestamp is present', result='passed', engine='soda-core', reason='', model='articles', field=None, details=None), Check(type='schema', name='Check that field processing_timestamp has type TIMESTAMP', result='passed', engine='soda-core', reason='', model='articles', field=None, details=None), Check(type='schema', name='row_count > 1000', result='passed', engine='soda-core', reason='', model='articles', field=None, details=None), Check(type='schema', name='Check that required field sku has no null values', result='passed', engine='soda-core', reason='', model='articles', field='sku', details=None), Check(type='schema', name='Check that unique field sku has no duplicate values', result='passed', engine='soda-core', reason='', model='articles', field='sku', details=None), Check(type='schema', name='Check that required field quantity has no null values', result='passed', engine='soda-core', reason='', model='articles', field='quantity', details=None), Check(type='schema', name='Check that required field processing_timestamp has no null values', result='passed', engine='soda-core', reason='', model='articles', field='processing_timestamp', details=None)] logs=[Log(level='INFO', message='Testing data contract', timestamp=datetime.datetime(2024, 4, 4, 13, 31, 37, 876816, tzinfo=datetime.timezone.utc)), Log(level='INFO', message='Running tests for data contract urn:datacontract:fulfillment:stock-last-sales with server development', timestamp=datetime.datetime(2024, 4, 4, 13, 31, 38, 295583, tzinfo=datetime.timezone.utc)), Log(level='INFO', message='Running engine soda-core', timestamp=datetime.datetime(2024, 4, 4, 13, 31, 38, 295617, tzinfo=datetime.timezone.utc)), Log(level='INFO', message='Soda Core 3.3.1', timestamp=datetime.datetime(2024, 4, 4, 13, 31, 38, tzinfo=TzInfo(UTC))), Log(level='INFO', message='Scan summary:', timestamp=datetime.datetime(2024, 4, 4, 13, 38, 40, tzinfo=TzInfo(UTC))), Log(level='INFO', message='13/13 checks PASSED: ', timestamp=datetime.datetime(2024, 4, 4, 13, 38, 40, tzinfo=TzInfo(UTC))), Log(level='INFO', message='    articles in databricks', timestamp=datetime.datetime(2024, 4, 4, 13, 38, 40, tzinfo=TzInfo(UTC))), Log(level='INFO', message='      Check that field sku is present [PASSED]', timestamp=datetime.datetime(2024, 4, 4, 13, 38, 40, tzinfo=TzInfo(UTC))), Log(level='INFO', message='      Check that field sku has type STRING [PASSED]', timestamp=datetime.datetime(2024, 4, 4, 13, 38, 40, tzinfo=TzInfo(UTC))), Log(level='INFO', message='      Check that field quantity is present [PASSED]', timestamp=datetime.datetime(2024, 4, 4, 13, 38, 40, tzinfo=TzInfo(UTC))), Log(level='INFO', message='      Check that field quantity has type BIGINT [PASSED]', timestamp=datetime.datetime(2024, 4, 4, 13, 38, 40, tzinfo=TzInfo(UTC))), Log(level='INFO', message='      Check that field last_sale_timestamp is present [PASSED]', timestamp=datetime.datetime(2024, 4, 4, 13, 38, 40, tzinfo=TzInfo(UTC))), Log(level='INFO', message='      Check that field last_sale_timestamp has type TIMESTAMP [PASSED]', timestamp=datetime.datetime(2024, 4, 4, 13, 38, 40, tzinfo=TzInfo(UTC))), Log(level='INFO', message='      Check that field processing_timestamp is present [PASSED]', timestamp=datetime.datetime(2024, 4, 4, 13, 38, 40, tzinfo=TzInfo(UTC))), Log(level='INFO', message='      Check that field processing_timestamp has type TIMESTAMP [PASSED]', timestamp=datetime.datetime(2024, 4, 4, 13, 38, 40, tzinfo=TzInfo(UTC))), Log(level='INFO', message='      row_count > 1000 [PASSED]', timestamp=datetime.datetime(2024, 4, 4, 13, 38, 40, tzinfo=TzInfo(UTC))), Log(level='INFO', message='      Check that required field sku has no null values [PASSED]', timestamp=datetime.datetime(2024, 4, 4, 13, 38, 40, tzinfo=TzInfo(UTC))), Log(level='INFO', message='      Check that unique field sku has no duplicate values [PASSED]', timestamp=datetime.datetime(2024, 4, 4, 13, 38, 40, tzinfo=TzInfo(UTC))), Log(level='INFO', message='      Check that required field quantity has no null values [PASSED]', timestamp=datetime.datetime(2024, 4, 4, 13, 38, 40, tzinfo=TzInfo(UTC))), Log(level='INFO', message='      Check that required field processing_timestamp has no null values [PASSED]', timestamp=datetime.datetime(2024, 4, 4, 13, 38, 40, tzinfo=TzInfo(UTC))), Log(level='INFO', message='All is good. No failures. No warnings. No errors.', timestamp=datetime.datetime(2024, 4, 4, 13, 38, 40, tzinfo=TzInfo(UTC)))]\n"
     ]
    }
   ],
   "source": [
    "import sys\n",
    "from datacontract.data_contract import DataContract\n",
    "from helpers.spark import get_spark\n",
    "\n",
    "data_contract_file = get_absolute_path(\"..\", \"datacontract.yaml\")\n",
    "data_contract = DataContract(\n",
    "    data_contract_file=data_contract_file, \n",
    "    spark=get_spark(),\n",
    ")\n",
    "\n",
    "run = data_contract.test()\n",
    "\n",
    "print(\"Data Contract test result:\", run.result)\n",
    "print(\"Run details:\",  run)\n",
    "\n",
    "if not run.has_passed():\n",
    "    sys.exit(1)\n"
   ],
   "metadata": {
    "collapsed": false,
    "ExecuteTime": {
     "end_time": "2024-04-04T13:38:40.508711Z",
     "start_time": "2024-04-04T13:31:36.106691Z"
    }
   },
   "id": "f6a2cf7bf2b94650"
  }
 ],
 "metadata": {
  "kernelspec": {
   "display_name": "Python 3",
   "language": "python",
   "name": "python3"
  },
  "language_info": {
   "codemirror_mode": {
    "name": "ipython",
    "version": 2
   },
   "file_extension": ".py",
   "mimetype": "text/x-python",
   "name": "python",
   "nbconvert_exporter": "python",
   "pygments_lexer": "ipython2",
   "version": "2.7.6"
  }
 },
 "nbformat": 4,
 "nbformat_minor": 5
}
