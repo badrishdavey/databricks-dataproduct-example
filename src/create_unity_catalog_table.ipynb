{
 "cells": [
  {
   "cell_type": "markdown",
   "source": [
    "# Create Output Port Table in Unity Catalog\n",
    "\n",
    "This notebook uses the datacontract.yaml to export a CREATE TABLE SQL-statement from the defined model.\n",
    "Then it actually creates the table in unity catalog."
   ],
   "metadata": {
    "collapsed": false
   },
   "id": "f446fad4ff918bd9"
  },
  {
   "cell_type": "code",
   "execution_count": null,
   "outputs": [],
   "source": [
    "def get_absolute_path(*relative_parts):\n",
    "    import os\n",
    "    if 'dbutils' in globals():\n",
    "        # dbutils is available to the entry point when run in Databricks\n",
    "        base_dir = os.path.dirname(dbutils.notebook.entry_point.getDbutils().notebook().getContext().notebookPath().get()) # type: ignore\n",
    "        path = os.path.normpath(os.path.join(base_dir, *relative_parts))\n",
    "        return path if path.startswith(\"/Workspace\") else \"/Workspace\" + path\n",
    "    else:\n",
    "        return os.path.join(*relative_parts)\n"
   ],
   "metadata": {
    "collapsed": false
   },
   "id": "3841621f6d140b9a"
  },
  {
   "cell_type": "markdown",
   "source": [
    "## Export Data Contract as SQL\n",
    "Generate the CREATE TABLE STATEMENT"
   ],
   "metadata": {
    "collapsed": false
   },
   "id": "5635e64a2227762e"
  },
  {
   "cell_type": "code",
   "execution_count": 4,
   "outputs": [
    {
     "ename": "KeyError",
     "evalue": "'dbutils'",
     "output_type": "error",
     "traceback": [
      "\u001B[0;31m---------------------------------------------------------------------------\u001B[0m",
      "\u001B[0;31mKeyError\u001B[0m                                  Traceback (most recent call last)",
      "Cell \u001B[0;32mIn[4], line 5\u001B[0m\n\u001B[1;32m      1\u001B[0m \u001B[38;5;28;01mfrom\u001B[39;00m \u001B[38;5;21;01mdatacontract\u001B[39;00m\u001B[38;5;21;01m.\u001B[39;00m\u001B[38;5;21;01mdata_contract\u001B[39;00m \u001B[38;5;28;01mimport\u001B[39;00m DataContract\n\u001B[1;32m      2\u001B[0m \u001B[38;5;28;01mfrom\u001B[39;00m \u001B[38;5;21;01mhelpers\u001B[39;00m\u001B[38;5;21;01m.\u001B[39;00m\u001B[38;5;21;01mpaths\u001B[39;00m \u001B[38;5;28;01mimport\u001B[39;00m get_absolute_path\n\u001B[0;32m----> 5\u001B[0m data_contract_file \u001B[38;5;241m=\u001B[39m get_absolute_path(\u001B[38;5;28;43mglobals\u001B[39;49m\u001B[43m(\u001B[49m\u001B[43m)\u001B[49m\u001B[43m[\u001B[49m\u001B[38;5;124;43m'\u001B[39;49m\u001B[38;5;124;43mdbutils\u001B[39;49m\u001B[38;5;124;43m'\u001B[39;49m\u001B[43m]\u001B[49m, \u001B[38;5;124m\"\u001B[39m\u001B[38;5;124m..\u001B[39m\u001B[38;5;124m\"\u001B[39m, \u001B[38;5;124m\"\u001B[39m\u001B[38;5;124mdatacontract.yaml\u001B[39m\u001B[38;5;124m\"\u001B[39m)\n\u001B[1;32m      6\u001B[0m data_contract \u001B[38;5;241m=\u001B[39m DataContract(data_contract_file\u001B[38;5;241m=\u001B[39mdata_contract_file)\n\u001B[1;32m      7\u001B[0m sql_ddl \u001B[38;5;241m=\u001B[39m data_contract\u001B[38;5;241m.\u001B[39mexport(export_format\u001B[38;5;241m=\u001B[39m\u001B[38;5;124m\"\u001B[39m\u001B[38;5;124msql\u001B[39m\u001B[38;5;124m\"\u001B[39m)\n",
      "\u001B[0;31mKeyError\u001B[0m: 'dbutils'"
     ]
    }
   ],
   "source": [
    "from datacontract.data_contract import DataContract\n",
    "   \n",
    "data_contract_file = get_absolute_path(\"..\", \"datacontract.yaml\")\n",
    "data_contract = DataContract(data_contract_file=data_contract_file)\n",
    "sql_ddl = data_contract.export(export_format=\"sql\")\n",
    "print(sql_ddl)"
   ],
   "metadata": {
    "collapsed": false,
    "ExecuteTime": {
     "end_time": "2024-04-03T16:38:08.139422Z",
     "start_time": "2024-04-03T16:38:08.111777Z"
    }
   },
   "id": "f6a2cf7bf2b94650"
  },
  {
   "cell_type": "markdown",
   "source": [
    "## Create Unity Catalog table\n",
    "\n",
    "The Data Catalog _acme_ must exist."
   ],
   "metadata": {
    "collapsed": false
   },
   "id": "7312a0de52ab2ff0"
  },
  {
   "cell_type": "code",
   "execution_count": null,
   "outputs": [],
   "source": [
    "from helpers.spark import get_spark\n",
    "\n",
    "# Create the table in Unity Catalog\n",
    "get_spark().sql(sql_ddl)"
   ],
   "metadata": {
    "collapsed": false,
    "ExecuteTime": {
     "start_time": "2024-04-03T16:38:08.136997Z"
    }
   },
   "id": "67ec7a1aa3433318"
  }
 ],
 "metadata": {
  "kernelspec": {
   "display_name": "Python 3",
   "language": "python",
   "name": "python3"
  },
  "language_info": {
   "codemirror_mode": {
    "name": "ipython",
    "version": 2
   },
   "file_extension": ".py",
   "mimetype": "text/x-python",
   "name": "python",
   "nbconvert_exporter": "python",
   "pygments_lexer": "ipython2",
   "version": "2.7.6"
  }
 },
 "nbformat": 4,
 "nbformat_minor": 5
}
